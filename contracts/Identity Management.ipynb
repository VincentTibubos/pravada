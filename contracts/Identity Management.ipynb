{
 "cells": [
  {
   "cell_type": "code",
   "execution_count": 27,
   "metadata": {},
   "outputs": [],
   "source": [
    "import os\n",
    "from web3 import Web3\n",
    "from solc import compile_files, compile_source\n",
    "from web3.contract import ConciseContract"
   ]
  },
  {
   "cell_type": "code",
   "execution_count": 28,
   "metadata": {},
   "outputs": [
    {
     "data": {
      "text/plain": [
       "True"
      ]
     },
     "execution_count": 28,
     "metadata": {},
     "output_type": "execute_result"
    }
   ],
   "source": [
    "web3 = Web3(Web3.HTTPProvider(\"http://127.0.0.1:8545\", request_kwargs={'timeout': 60}))\n",
    "web3.isConnected()"
   ]
  },
  {
   "cell_type": "code",
   "execution_count": 29,
   "metadata": {},
   "outputs": [],
   "source": [
    "solidity_file = './identity.sol' #Add Contracts to folder\n",
    "solidity_function = ':Identity'"
   ]
  },
  {
   "cell_type": "code",
   "execution_count": 30,
   "metadata": {},
   "outputs": [
    {
     "data": {
      "text/plain": [
       "['0xeCDB33423EEb354aDE809a17c53D1325626c5219',\n",
       " '0xa8Bd814a4a325d0092416Ac7574fFb5868899B9e',\n",
       " '0xB3e4B53382F53eDe4324ae3c6e3F5f77Df5Eab4a',\n",
       " '0xB089Ae28eE68E11E50CfE15185E9a5f54c223aE1',\n",
       " '0xE8F05d67d6eBD7F0EEf06B8c9dDb7BAF4CF8BF80',\n",
       " '0x9C5d95cfD3FEb230455F86e85fF495Dda387EFAD',\n",
       " '0xC867d6B64115a05c348491c47B03F89dd4f20346',\n",
       " '0x69F0c999E5eBfd29a5044650dCb00125CF869842',\n",
       " '0x4559fFA451694Ca1B184590DC3175D0007cC3eE3',\n",
       " '0x93536A8F9aD1F528f85e1ddAe4bE6E1891fDaE7b']"
      ]
     },
     "execution_count": 30,
     "metadata": {},
     "output_type": "execute_result"
    }
   ],
   "source": [
    "web3.personal.listAccounts"
   ]
  },
  {
   "cell_type": "code",
   "execution_count": 31,
   "metadata": {},
   "outputs": [],
   "source": [
    "web3.eth.defaultAccount = web3.eth.accounts[0]"
   ]
  },
  {
   "cell_type": "code",
   "execution_count": 32,
   "metadata": {},
   "outputs": [],
   "source": [
    "compiled_sol = compile_files([solidity_file])\n",
    "contract_interface = compiled_sol[solidity_file + solidity_function]\n",
    "users = web3.eth.contract(abi=contract_interface['abi'], bytecode=contract_interface['bin'])"
   ]
  },
  {
   "cell_type": "code",
   "execution_count": 33,
   "metadata": {},
   "outputs": [
    {
     "data": {
      "text/plain": [
       "HexBytes('0x6126f4218970927864cf06451c0b72e9e7150a7264dc4574acda021c718b9247')"
      ]
     },
     "execution_count": 33,
     "metadata": {},
     "output_type": "execute_result"
    }
   ],
   "source": [
    "tx_hash = users.constructor().transact()\n",
    "tx_hash"
   ]
  },
  {
   "cell_type": "code",
   "execution_count": 34,
   "metadata": {},
   "outputs": [
    {
     "data": {
      "text/plain": [
       "AttributeDict({'transactionHash': HexBytes('0x6126f4218970927864cf06451c0b72e9e7150a7264dc4574acda021c718b9247'),\n",
       " 'transactionIndex': 0,\n",
       " 'blockHash': HexBytes('0x46803faf69c057688a93df771b45b6c1d26ec2299ec69c546e7c4a89ed34cbcd'),\n",
       " 'blockNumber': 1,\n",
       " 'gasUsed': 68794,\n",
       " 'cumulativeGasUsed': 68794,\n",
       " 'contractAddress': '0x020307A1B5FaB456f5432786aA65bCf10C5bBa0f',\n",
       " 'logs': [],\n",
       " 'status': 1,\n",
       " 'logsBloom': HexBytes('0x00000000000000000000000000000000000000000000000000000000000000000000000000000000000000000000000000000000000000000000000000000000000000000000000000000000000000000000000000000000000000000000000000000000000000000000000000000000000000000000000000000000000000000000000000000000000000000000000000000000000000000000000000000000000000000000000000000000000000000000000000000000000000000000000000000000000000000000000000000000000000000000000000000000000000000000000000000000000000000000000000000000000000000000000000000000')})"
      ]
     },
     "execution_count": 34,
     "metadata": {},
     "output_type": "execute_result"
    }
   ],
   "source": [
    "tx_receipt = web3.eth.waitForTransactionReceipt(tx_hash)\n",
    "tx_receipt"
   ]
  },
  {
   "cell_type": "code",
   "execution_count": 35,
   "metadata": {},
   "outputs": [],
   "source": [
    "users = web3.eth.contract(\n",
    "    address=tx_receipt.contractAddress,\n",
    "    abi=contract_interface['abi'],\n",
    ")"
   ]
  }
 ],
 "metadata": {
  "kernelspec": {
   "display_name": "Python 3",
   "language": "python",
   "name": "python3"
  },
  "language_info": {
   "codemirror_mode": {
    "name": "ipython",
    "version": 3
   },
   "file_extension": ".py",
   "mimetype": "text/x-python",
   "name": "python",
   "nbconvert_exporter": "python",
   "pygments_lexer": "ipython3",
   "version": "3.6.2"
  }
 },
 "nbformat": 4,
 "nbformat_minor": 2
}
