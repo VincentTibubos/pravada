{
 "cells": [
  {
   "cell_type": "code",
   "execution_count": 1,
   "metadata": {},
   "outputs": [],
   "source": [
    "import os\n",
    "from web3 import Web3\n",
    "from solc import compile_files, compile_source\n",
    "from web3.contract import ConciseContract"
   ]
  },
  {
   "cell_type": "code",
   "execution_count": 24,
   "metadata": {},
   "outputs": [
    {
     "data": {
      "text/plain": [
       "True"
      ]
     },
     "execution_count": 24,
     "metadata": {},
     "output_type": "execute_result"
    }
   ],
   "source": [
    "web3 = Web3(Web3.HTTPProvider(\"https://ropsten.infura.io/v3/0304fbf455964878a6deac4577b34217\", request_kwargs={'timeout': 60}))\n",
    "web3.isConnected()"
   ]
  },
  {
   "cell_type": "code",
   "execution_count": 25,
   "metadata": {},
   "outputs": [],
   "source": [
    "solidity_file = './greeter.sol' #Add Contracts to folder\n",
    "solidity_function = ':Greeter'\n",
    "private_key = '3ea800c52660f656c691707a57a200f7960773f117567efe17856c0517002a28'"
   ]
  },
  {
   "cell_type": "code",
   "execution_count": 26,
   "metadata": {},
   "outputs": [],
   "source": [
    "acct = web3.eth.account.privateKeyToAccount(private_key)\n",
    "web3.eth.defaultAccount = acct.address"
   ]
  },
  {
   "cell_type": "code",
   "execution_count": 31,
   "metadata": {},
   "outputs": [],
   "source": [
    "compiled_sol = compile_files([solidity_file])\n",
    "contract_interface = compiled_sol[solidity_file + solidity_function]\n",
    "contract = web3.eth.contract(abi=contract_interface['abi'], bytecode=contract_interface['bin'])"
   ]
  },
  {
   "cell_type": "code",
   "execution_count": 34,
   "metadata": {},
   "outputs": [
    {
     "data": {
      "text/plain": [
       "HexBytes('0xcf28b94216e873f7fa6271ebd05b62b916bedbb52c5ca886dce4dc2f245b7abc')"
      ]
     },
     "execution_count": 34,
     "metadata": {},
     "output_type": "execute_result"
    }
   ],
   "source": [
    "construct_txn = contract.constructor().buildTransaction({\n",
    "    'from': acct.address,\n",
    "    'nonce': web3.eth.getTransactionCount(acct.address),\n",
    "    'gas': 1728712,\n",
    "    'gasPrice': web3.toWei('21', 'gwei')})\n",
    "\n",
    "signed = acct.signTransaction(construct_txn)\n",
    "web3.eth.sendRawTransaction(signed.rawTransaction)"
   ]
  },
  {
   "cell_type": "code",
   "execution_count": null,
   "metadata": {},
   "outputs": [],
   "source": []
  }
 ],
 "metadata": {
  "kernelspec": {
   "display_name": "Python 3",
   "language": "python",
   "name": "python3"
  },
  "language_info": {
   "codemirror_mode": {
    "name": "ipython",
    "version": 3
   },
   "file_extension": ".py",
   "mimetype": "text/x-python",
   "name": "python",
   "nbconvert_exporter": "python",
   "pygments_lexer": "ipython3",
   "version": "3.6.2"
  }
 },
 "nbformat": 4,
 "nbformat_minor": 2
}
